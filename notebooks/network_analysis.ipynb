{
 "cells": [
  {
   "cell_type": "markdown",
   "metadata": {},
   "source": [
    "# Analyse results from Pypsa-Earth"
   ]
  },
  {
   "cell_type": "markdown",
   "metadata": {},
   "source": [
    "Sources: \n",
    "- Plot capacity - map view: https://github.com/pypsa-meets-earth/documentation/blob/main/notebooks/viz/regional_transm_system_viz.ipynb\n",
    "- Analyse energy potential: https://github.com/pypsa-meets-earth/documentation/blob/main/notebooks/build_renewable_profiles.ipynb\n",
    "- Analyse energy generation: https://pypsa.readthedocs.io/en/latest/examples/statistics.html"
   ]
  },
  {
   "cell_type": "markdown",
   "metadata": {},
   "source": [
    "Some files are needed:\n",
    "* PyPSA network file (e.g. \"elec.nc\" contains a lot of details and looks perfect)\n",
    "* a country shape file (may be found in \"resources/shapes/country_shapes.geojson\")\n",
    "* a renewable profile file (may be found in \"resources/renewable_profiles/....nc)"
   ]
  },
  {
   "cell_type": "markdown",
   "metadata": {},
   "source": [
    "## Own setting"
   ]
  },
  {
   "cell_type": "code",
   "execution_count": null,
   "metadata": {},
   "outputs": [],
   "source": [
    "# Check config.yaml - run:\n",
    "name = \"\"\n",
    "\n",
    "\n",
    "# Check config.yaml - scenario: \n",
    "clusters = 6\n",
    "opts = \"Co2L-4H\""
   ]
  },
  {
   "cell_type": "markdown",
   "metadata": {},
   "source": [
    "## Import packages"
   ]
  },
  {
   "cell_type": "code",
   "execution_count": null,
   "metadata": {},
   "outputs": [],
   "source": [
    "import yaml\n",
    "import pypsa\n",
    "import warnings\n",
    "import matplotlib.pyplot as plt\n",
    "import geopandas as gpd\n",
    "import numpy as np\n",
    "import pandas as pd\n",
    "from pathlib import Path\n",
    "import seaborn as sns\n",
    "from datetime import datetime\n",
    "from cartopy import crs as ccrs\n",
    "from pypsa.plot import add_legend_circles, add_legend_lines, add_legend_patches\n",
    "import os\n",
    "import xarray as xr\n",
    "import cartopy"
   ]
  },
  {
   "cell_type": "code",
   "execution_count": null,
   "metadata": {},
   "outputs": [],
   "source": [
    "# change current directory to parent folder\n",
    "import os\n",
    "import sys\n",
    "\n",
    "if not os.path.isdir(\"pypsa-earth\"):\n",
    "    os.chdir(\"../..\")\n",
    "sys.path.append(os.getcwd()+\"/pypsa-earth/scripts\")"
   ]
  },
  {
   "cell_type": "markdown",
   "metadata": {},
   "source": [
    "## Path settings"
   ]
  },
  {
   "cell_type": "code",
   "execution_count": null,
   "metadata": {},
   "outputs": [],
   "source": [
    "nc_file_name = \"elec_s_\" + str(clusters) + \"_ec_lcopt_\" + opts + \".nc\"\n",
    "scenario_name = name \n",
    "scenario_subpath = scenario_name + \"/\" if scenario_name else \"\"\n",
    "\n",
    "PARENT = os.path.realpath(\"pypsa-earth/\") + \"/\"\n",
    "\n",
    "# Network file\n",
    "results_path = PARENT + \"results/\" + scenario_name + \"/networks/\" + nc_file_name\n",
    "network_path = PARENT + \"networks/\" + scenario_name + \"/elec.nc\"\n",
    "# Country shape file\n",
    "regions_onshore_path = PARENT + \"resources/\" + scenario_name + \"/shapes/country_shapes.geojson\"\n",
    "# Renewable profile file\n",
    "solar_path = PARENT + \"resources/\" + scenario_name + \"/renewable_profiles/profile_solar.nc\"\n",
    "onwind_path = PARENT + \"resources/\" + scenario_name + \"/renewable_profiles/profile_onwind.nc\" "
   ]
  },
  {
   "cell_type": "markdown",
   "metadata": {},
   "source": [
    "## Energy system analysis setup - power and energy generation"
   ]
  },
  {
   "cell_type": "code",
   "execution_count": null,
   "metadata": {},
   "outputs": [],
   "source": [
    "warnings.simplefilter(action='ignore', category=FutureWarning)\n",
    "n = pypsa.Network(results_path)\n",
    "regions_onshore = gpd.read_file(regions_onshore_path)\n",
    "country_coordinates = regions_onshore.total_bounds[[0, 2, 1, 3]]\n",
    "warnings.simplefilter(action='default', category=FutureWarning)"
   ]
  },
  {
   "cell_type": "markdown",
   "metadata": {},
   "source": [
    "## Data import check"
   ]
  },
  {
   "cell_type": "markdown",
   "metadata": {},
   "source": [
    "Plot of the region of interest"
   ]
  },
  {
   "cell_type": "code",
   "execution_count": null,
   "metadata": {},
   "outputs": [],
   "source": [
    "fig, ax = plt.subplots(figsize=(8, 8), subplot_kw={\"projection\": ccrs.EqualEarth(n.buses.x.mean())})\n",
    "with plt.rc_context({\"patch.linewidth\": 0.}):\n",
    "    regions_onshore.plot(\n",
    "    ax=ax,\n",
    "    facecolor=\"green\",\n",
    "    edgecolor=\"white\",\n",
    "    aspect=\"equal\",\n",
    "    transform=ccrs.PlateCarree(),\n",
    "    linewidth=0,\n",
    "    )\n",
    "ax.set_title(\", \".join(regions_onshore.name.values))"
   ]
  },
  {
   "cell_type": "markdown",
   "metadata": {},
   "source": [
    "List number of components by type"
   ]
  },
  {
   "cell_type": "code",
   "execution_count": null,
   "metadata": {},
   "outputs": [],
   "source": [
    "for c in n.iterate_components(list(n.components.keys())[2:]):\n",
    "    print(\"Component '{}' has {} entries\".format(c.name,len(c.df)))"
   ]
  },
  {
   "cell_type": "markdown",
   "metadata": {},
   "source": [
    "List the snapshots of the PyPSA network"
   ]
  },
  {
   "cell_type": "code",
   "execution_count": null,
   "metadata": {},
   "outputs": [],
   "source": [
    "print(n.snapshots)\n",
    "print(f\"Time steps: \" + str(len(n.snapshots)))"
   ]
  },
  {
   "cell_type": "markdown",
   "metadata": {},
   "source": [
    "## Analyse energy system"
   ]
  },
  {
   "cell_type": "markdown",
   "metadata": {},
   "source": [
    "Analyse the current capacity of the energy system - map view"
   ]
  },
  {
   "cell_type": "code",
   "execution_count": null,
   "metadata": {},
   "outputs": [],
   "source": [
    "# Scale settings\n",
    "bus_scale = 1e3 \n",
    "line_scale = 3e3\n",
    "\n",
    "# Legend settings\n",
    "bus_sizes = [100, 1000]  # in MW\n",
    "line_sizes = [100, 1000]  # in MW\n",
    "\n",
    "n.carriers.drop(\"Load\", inplace=True)\n",
    "fig, ax = plt.subplots(figsize=(8, 8), subplot_kw={\"projection\": ccrs.EqualEarth(n.buses.x.mean())})\n",
    "gen = n.generators[n.generators.carrier != \"load\"].groupby([\"bus\", \"carrier\"]).p_nom.sum()\n",
    "sto = n.storage_units.groupby([\"bus\", \"carrier\"]).p_nom.sum()\n",
    "buses = pd.concat([gen, sto])\n",
    "\n",
    "with plt.rc_context({\"patch.linewidth\": 0.}):\n",
    "    n.plot(\n",
    "        bus_sizes=buses / bus_scale,\n",
    "        bus_alpha=0.7,\n",
    "        line_widths=n.lines.s_nom_opt / line_scale,\n",
    "        link_widths=n.links.p_nom_opt / line_scale,\n",
    "        line_colors=\"teal\",\n",
    "        ax=ax,\n",
    "        margin=0.2,\n",
    "        color_geomap=None,\n",
    "    )\n",
    "regions_onshore.plot(\n",
    "    ax=ax,\n",
    "    facecolor=\"whitesmoke\",\n",
    "    edgecolor=\"white\",\n",
    "    aspect=\"equal\",\n",
    "    transform=ccrs.PlateCarree(),\n",
    "    linewidth=0,\n",
    ")\n",
    "ax.set_extent(regions_onshore.total_bounds[[0, 2, 1, 3]])\n",
    "legend_kwargs = {\"loc\": \"upper left\", \"frameon\": False}\n",
    "legend_circles_dict = {\"bbox_to_anchor\": (1, 0.67), \"labelspacing\": 2.5, **legend_kwargs}\n",
    "\n",
    "add_legend_circles(\n",
    "    ax,\n",
    "    [s / bus_scale for s in bus_sizes],\n",
    "    [f\"{s / 1000} GW\" for s in bus_sizes],\n",
    "    legend_kw=legend_circles_dict,    \n",
    ")\n",
    "add_legend_lines(\n",
    "    ax,\n",
    "    [s / line_scale for s in line_sizes],\n",
    "    [f\"{s / 1000} GW\" for s in line_sizes],\n",
    "    legend_kw={\"bbox_to_anchor\": (1, 0.8), **legend_kwargs},\n",
    ")\n",
    "add_legend_patches(\n",
    "    ax,\n",
    "    n.carriers.color,\n",
    "    n.carriers.nice_name,\n",
    "    legend_kw={\"bbox_to_anchor\": (1, 0), **legend_kwargs, \"loc\":\"lower left\"},\n",
    ")\n",
    "fig.tight_layout()"
   ]
  },
  {
   "cell_type": "markdown",
   "metadata": {},
   "source": [
    "Analyse the current generation capacity of the energy system - pie chart view"
   ]
  },
  {
   "cell_type": "code",
   "execution_count": null,
   "metadata": {},
   "outputs": [],
   "source": [
    "generator_capacity_by_carrier = (\n",
    "    n.generators[n.generators.carrier != \"load\"]\n",
    "    .groupby([\"carrier\"])\n",
    "    .p_nom.sum()\n",
    ")\n",
    "plt.figure(figsize=(8, 8))\n",
    "plt.pie(\n",
    "    generator_capacity_by_carrier,\n",
    "    labels=generator_capacity_by_carrier.index,\n",
    "    autopct='%1.1f%%',\n",
    "    colors=n.carriers[\n",
    "            n.carriers.index.isin(generator_capacity_by_carrier.index)\n",
    "        ].color.reindex(generator_capacity_by_carrier.index)\n",
    ")\n",
    "plt.title(\"Generator Capacity by Carrier\")"
   ]
  },
  {
   "cell_type": "markdown",
   "metadata": {},
   "source": [
    "Analyse the current gernation capacity of the energy system - tabular view"
   ]
  },
  {
   "cell_type": "code",
   "execution_count": null,
   "metadata": {},
   "outputs": [],
   "source": [
    "generator_capacity_by_carrier/1e3 # in GW"
   ]
  },
  {
   "cell_type": "markdown",
   "metadata": {},
   "source": [
    "Analyse the future capacity of the energy system - map view"
   ]
  },
  {
   "cell_type": "code",
   "execution_count": null,
   "metadata": {},
   "outputs": [],
   "source": [
    "fig, ax = plt.subplots(figsize=(8, 8), subplot_kw={\"projection\": ccrs.EqualEarth(n.buses.x.mean())})\n",
    "gen = n.generators[n.generators.carrier != \"load\"].groupby([\"bus\", \"carrier\"]).p_nom_opt.sum()\n",
    "sto = n.storage_units.groupby([\"bus\", \"carrier\"]).p_nom_opt.sum()\n",
    "buses = pd.concat([gen, sto])\n",
    "\n",
    "with plt.rc_context({\"patch.linewidth\": 0.}):\n",
    "    n.plot(\n",
    "        bus_sizes=buses / bus_scale,\n",
    "        bus_alpha=0.7,\n",
    "        line_widths=n.lines.s_nom_opt / line_scale,\n",
    "        link_widths=n.links.p_nom_opt / line_scale,\n",
    "        line_colors=\"teal\",\n",
    "        ax=ax,\n",
    "        margin=0.2,\n",
    "        color_geomap=None,\n",
    "    )\n",
    "regions_onshore.plot(\n",
    "    ax=ax,\n",
    "    facecolor=\"whitesmoke\",\n",
    "    edgecolor=\"white\",\n",
    "    aspect=\"equal\",\n",
    "    transform=ccrs.PlateCarree(),\n",
    "    linewidth=0,\n",
    ")\n",
    "ax.set_extent(regions_onshore.total_bounds[[0, 2, 1, 3]])\n",
    "legend_kwargs = {\"loc\": \"upper left\", \"frameon\": False}\n",
    "legend_circles_dict = {\"bbox_to_anchor\": (1, 0.67), \"labelspacing\": 2.5, **legend_kwargs}\n",
    "\n",
    "add_legend_circles(\n",
    "    ax,\n",
    "    [s / bus_scale for s in bus_sizes],\n",
    "    [f\"{s / 1000} GW\" for s in bus_sizes],\n",
    "    legend_kw=legend_circles_dict,    \n",
    ")\n",
    "add_legend_lines(\n",
    "    ax,\n",
    "    [s / line_scale for s in line_sizes],\n",
    "    [f\"{s / 1000} GW\" for s in line_sizes],\n",
    "    legend_kw={\"bbox_to_anchor\": (1, 0.8), **legend_kwargs},\n",
    ")\n",
    "add_legend_patches(\n",
    "    ax,\n",
    "    n.carriers.color,\n",
    "    n.carriers.nice_name,\n",
    "    legend_kw={\"bbox_to_anchor\": (1, 0), **legend_kwargs, \"loc\":\"lower left\"},\n",
    ")\n",
    "fig.tight_layout()"
   ]
  },
  {
   "cell_type": "markdown",
   "metadata": {},
   "source": [
    "Analys the future generation capacity expansion of the energy system - bar chart"
   ]
  },
  {
   "cell_type": "code",
   "execution_count": null,
   "metadata": {},
   "outputs": [],
   "source": [
    "optimal_capacity = n.statistics.optimal_capacity(comps=[\"Generator\"]).droplevel(0).div(1e3)\n",
    "installed_capacity = n.statistics.installed_capacity(comps=[\"Generator\"]).droplevel(0).div(1e3)\n",
    "generation_capacity_expansion = optimal_capacity - installed_capacity\n",
    "generation_capacity_expansion.drop([\"load\"], inplace=True)\n",
    "generation_capacity_expansion.plot.bar(title=\"Generator capacity expansion in GW\")"
   ]
  },
  {
   "cell_type": "markdown",
   "metadata": {},
   "source": [
    "Plot the future generation capacity expansion of the energy system - tabular chart"
   ]
  },
  {
   "cell_type": "code",
   "execution_count": null,
   "metadata": {},
   "outputs": [],
   "source": [
    "generation_capacity_expansion # In GW"
   ]
  },
  {
   "cell_type": "markdown",
   "metadata": {},
   "source": [
    "Analyse the future energy generation of the energy system - bar chart view"
   ]
  },
  {
   "cell_type": "code",
   "execution_count": null,
   "metadata": {},
   "outputs": [],
   "source": [
    "fig, ax = plt.subplots()\n",
    "config = yaml.safe_load(open(PARENT + \"config.yaml\"))\n",
    "colors = config[\"plotting\"][\"tech_colors\"].copy()\n",
    "colors = {key.lower(): value.lower() for key, value in colors.items()}\n",
    "\n",
    "rename_cols = {\n",
    "    '-': 'Load',\n",
    "    'load': 'load shedding',\n",
    "}\n",
    "\n",
    "energy_balance = (\n",
    "    n.statistics.energy_balance()\n",
    "    .loc[:, :, \"AC\"]\n",
    "    .groupby(\"carrier\")\n",
    "    .sum()\n",
    "    .div(1e6)\n",
    "    .to_frame()\n",
    "    .T\n",
    "    .rename(columns=rename_cols)\n",
    ")\n",
    "\n",
    "color_list = [colors.get(col.lower(), 'gray') for col in energy_balance.columns]\n",
    "\n",
    "energy_balance.plot.bar(stacked=True, ax=ax, title=\"Energy Balance in TWh\", color=color_list)\n",
    "\n",
    "ax.legend(bbox_to_anchor=(1, 0), loc=\"lower left\", title=None, ncol=1)\n",
    "plt.show()"
   ]
  },
  {
   "cell_type": "markdown",
   "metadata": {},
   "source": [
    "Analyse the future energy generation of the energy system - tabular view"
   ]
  },
  {
   "cell_type": "code",
   "execution_count": null,
   "metadata": {},
   "outputs": [],
   "source": [
    "n.statistics.energy_balance()/1e6 # In TWh"
   ]
  },
  {
   "cell_type": "markdown",
   "metadata": {},
   "source": [
    "## Analyse pv and wind potential - map view"
   ]
  },
  {
   "cell_type": "code",
   "execution_count": null,
   "metadata": {},
   "outputs": [],
   "source": [
    "solar = xr.open_dataset(solar_path)\n",
    "wind = xr.open_dataset(onwind_path)\n",
    "\n",
    "def plot_voronoi(n, carrier, voronoi, cmap, projection, title=None, filename=None):\n",
    "    g = n.generators.loc[n.generators.carrier == carrier]\n",
    "    br = gpd.read_file(f\"{PARENT}resources/{scenario_name}/bus_regions/regions_{voronoi}.geojson\").set_index(\"name\")\n",
    "    br_area = br.to_crs(\"ESRI:54009\")\n",
    "    br_area = br_area.geometry.area * 1e-6\n",
    "    br[\"p_nom_max\"] = g.groupby(\"bus\").sum().p_nom_max / br_area\n",
    "\n",
    "    fig, ax = plt.subplots(figsize=(8, 4), subplot_kw={\"projection\": projection})\n",
    "    plt.rcParams.update({\"font.size\": 10})\n",
    "    br.plot(\n",
    "        ax=ax,\n",
    "        column=\"p_nom_max\",\n",
    "        transform=ccrs.PlateCarree(),\n",
    "        linewidth=0.25,\n",
    "        edgecolor=\"k\",\n",
    "        cmap=cmap,\n",
    "        vmin=0,\n",
    "        vmax=br[\"p_nom_max\"].max(),\n",
    "        legend=True,\n",
    "        legend_kwds={\"label\": r\"potential density\"},\n",
    "    )\n",
    "    ax.coastlines()\n",
    "    ax.add_feature(cartopy.feature.BORDERS.with_scale(\"110m\"))\n",
    "    ax.set_extent(country_coordinates, crs=ccrs.PlateCarree()) \n",
    "    \n",
    "    if title is not None:\n",
    "        plt.title(title)"
   ]
  },
  {
   "cell_type": "markdown",
   "metadata": {},
   "source": [
    "Plot wind energy potential"
   ]
  },
  {
   "cell_type": "code",
   "execution_count": null,
   "metadata": {},
   "outputs": [],
   "source": [
    "warnings.simplefilter(action='ignore', category=FutureWarning)\n",
    "plot_voronoi(\n",
    "    pypsa.Network(network_path),\n",
    "    \"onwind\",\n",
    "    \"onshore\",\n",
    "    \"Blues\",\n",
    "    ccrs.PlateCarree(),\n",
    "    title=\"Onshore Wind Potential Density [MW/km2]\",\n",
    ")\n",
    "warnings.simplefilter(action='default', category=FutureWarning)"
   ]
  },
  {
   "cell_type": "markdown",
   "metadata": {},
   "source": [
    "Plot pv energy potential"
   ]
  },
  {
   "cell_type": "code",
   "execution_count": null,
   "metadata": {},
   "outputs": [],
   "source": [
    "warnings.simplefilter(action='ignore', category=FutureWarning)\n",
    "plot_voronoi(\n",
    "    pypsa.Network(network_path),\n",
    "    \"solar\",\n",
    "    \"onshore\",\n",
    "    \"OrRd\",\n",
    "    ccrs.PlateCarree(),\n",
    "    title=\"Solar Photovoltaic Potential Density [MW/km2]\",\n",
    ")\n",
    "warnings.simplefilter(action='default', category=FutureWarning)"
   ]
  }
 ],
 "metadata": {
  "kernelspec": {
   "display_name": "pypsa-earth",
   "language": "python",
   "name": "python3"
  },
  "language_info": {
   "codemirror_mode": {
    "name": "ipython",
    "version": 3
   },
   "file_extension": ".py",
   "mimetype": "text/x-python",
   "name": "python",
   "nbconvert_exporter": "python",
   "pygments_lexer": "ipython3",
   "version": "3.10.13"
  }
 },
 "nbformat": 4,
 "nbformat_minor": 2
}
